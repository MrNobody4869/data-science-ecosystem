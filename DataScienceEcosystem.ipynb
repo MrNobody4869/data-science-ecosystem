{
  "metadata": {
    "kernelspec": {
      "name": "xpython",
      "display_name": "Python 3.13 (XPython)",
      "language": "python"
    },
    "language_info": {
      "file_extension": ".py",
      "mimetype": "text/x-python",
      "name": "python",
      "version": "3.13.1"
    }
  },
  "nbformat_minor": 5,
  "nbformat": 4,
  "cells": [
    {
      "id": "886a1faa-b060-405c-b753-ee62415e8ecf",
      "cell_type": "markdown",
      "source": "Data Science Tools and Ecosystem\n",
      "metadata": {}
    },
    {
      "id": "546e9814-d55c-4451-9054-1ef38a6c4399",
      "cell_type": "markdown",
      "source": "In this notebook, Data Science Tools and Ecosystem are summarized.\n",
      "metadata": {}
    },
    {
      "id": "2d286c02-fe38-4021-96b5-33d80dd10159",
      "cell_type": "markdown",
      "source": "**Objectives:**\n- List popular languages for Data Science\n- List commonly used libraries\n- Create a table of Data Science tools\n- Show examples of arithmetic expressions\n- Convert units using Python\n",
      "metadata": {}
    },
    {
      "id": "34227a60-4825-4834-bdfa-e344ab5974a3",
      "cell_type": "markdown",
      "source": "Some of the popular languages that Data Scientists use are:\n1. Python\n2. R\n3. SQL\n4. Julia\n",
      "metadata": {}
    },
    {
      "id": "bb08b0d5-35d0-48e7-a482-eafd239e4fd5",
      "cell_type": "markdown",
      "source": "Some of the commonly used libraries used by Data Scientists include:\n1. Pandas\n2. NumPy\n3. Scikit-learn\n4. TensorFlow\n",
      "metadata": {}
    },
    {
      "id": "0dac776d-7f46-4174-b2f8-e17c94d96295",
      "cell_type": "markdown",
      "source": "| Data Science Tools |\n|---------------------|\n| Jupyter Notebook    |\n| RStudio             |\n| Apache Spark        |\n",
      "metadata": {}
    },
    {
      "id": "5934e5fc-ce22-4618-898d-04b12e1642cc",
      "cell_type": "markdown",
      "source": "Below are a few examples of evaluating arithmetic expressions in Python.\n",
      "metadata": {}
    },
    {
      "id": "575bab1a-f5e6-455c-a9ed-63a527b2ad49",
      "cell_type": "code",
      "source": "# This a simple arithmetic expression to mutiply then add integers\neval = (3*4)+5\nprint(eval)\nprint(eval==17)\n",
      "metadata": {
        "trusted": true
      },
      "outputs": [
        {
          "name": "stdout",
          "output_type": "stream",
          "text": "17\nTrue\n"
        }
      ],
      "execution_count": 2
    },
    {
      "id": "419d8080-418f-4545-8418-1b5f7ca97853",
      "cell_type": "code",
      "source": "# This will convert 200 minutes to hours by dividing by 60\n200 / 60\n",
      "metadata": {
        "trusted": true
      },
      "outputs": [
        {
          "execution_count": 3,
          "output_type": "execute_result",
          "data": {
            "text/plain": "3.3333333333333335"
          },
          "metadata": {}
        }
      ],
      "execution_count": 3
    },
    {
      "id": "7eed73ba-b869-484f-a2be-5a5d9fc37a8c",
      "cell_type": "markdown",
      "source": "## Author\nPranav Jadhav\n",
      "metadata": {}
    }
  ]
}